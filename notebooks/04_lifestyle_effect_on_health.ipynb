{
 "cells": [
  {
   "cell_type": "code",
   "execution_count": 1,
   "id": "915792a1-6f79-449b-a6e8-3e61c68f5638",
   "metadata": {},
   "outputs": [
    {
     "name": "stderr",
     "output_type": "stream",
     "text": [
      "/opt/anaconda3/lib/python3.9/site-packages/scipy/__init__.py:146: UserWarning: A NumPy version >=1.16.5 and <1.23.0 is required for this version of SciPy (detected version 1.25.1\n",
      "  warnings.warn(f\"A NumPy version >={np_minversion} and <{np_maxversion}\"\n"
     ]
    }
   ],
   "source": [
    "import os\n",
    "import matplotlib.pyplot as plt \n",
    "import seaborn as sns \n",
    "import pandas as pd \n",
    "pd.set_option(\"display.max.columns\",None)\n",
    "plt.style.use('seaborn')"
   ]
  },
  {
   "cell_type": "code",
   "execution_count": 2,
   "id": "4f6e1a55-fe03-449a-928e-8b3fe268a343",
   "metadata": {},
   "outputs": [],
   "source": [
    "diabetes = pd.read_csv('../data/diabetes_data.csv')\n",
    "stroke = pd.read_csv('../data/stroke_data.csv')\n",
    "hypertension = pd.read_csv('../data/hypertension_data.csv')"
   ]
  },
  {
   "cell_type": "markdown",
   "id": "2c7c9f5a-f336-4251-982e-94ab034ac712",
   "metadata": {},
   "source": [
    "## Effect of lifestyle on health"
   ]
  },
  {
   "cell_type": "markdown",
   "id": "906556a9-2304-41cd-acb1-9487f7ff6710",
   "metadata": {},
   "source": [
    "Compare \"PhysActivity\" with various health variables to see how physical activity influences overall health.\n",
    "\n",
    "PhysActivity: Physical activity in the past 30 days - not including job (0 = no, 1 = yes)"
   ]
  },
  {
   "cell_type": "code",
   "execution_count": 3,
   "id": "1094fc09-4250-4b0f-8e96-fedad9244ead",
   "metadata": {},
   "outputs": [
    {
     "data": {
      "text/plain": [
       "1.0    49699\n",
       "0.0    20993\n",
       "Name: PhysActivity, dtype: int64"
      ]
     },
     "execution_count": 3,
     "metadata": {},
     "output_type": "execute_result"
    }
   ],
   "source": [
    "diabetes['PhysActivity'].value_counts()"
   ]
  },
  {
   "cell_type": "code",
   "execution_count": 4,
   "id": "62201441-4266-474a-9c61-40b4ef06820f",
   "metadata": {},
   "outputs": [
    {
     "data": {
      "text/plain": [
       "Index(['Age', 'Sex', 'HighChol', 'CholCheck', 'BMI', 'Smoker',\n",
       "       'HeartDiseaseorAttack', 'PhysActivity', 'Fruits', 'Veggies',\n",
       "       'HvyAlcoholConsump', 'GenHlth', 'MentHlth', 'PhysHlth', 'DiffWalk',\n",
       "       'Stroke', 'HighBP', 'Diabetes'],\n",
       "      dtype='object')"
      ]
     },
     "execution_count": 4,
     "metadata": {},
     "output_type": "execute_result"
    }
   ],
   "source": [
    "diabetes.columns"
   ]
  },
  {
   "cell_type": "code",
   "execution_count": 5,
   "id": "f1fa47e9-0a24-4187-bfba-11fdbdc20754",
   "metadata": {},
   "outputs": [],
   "source": [
    "sns.set_theme(style=\"darkgrid\") "
   ]
  },
  {
   "cell_type": "code",
   "execution_count": 6,
   "id": "aab39870-803f-4621-bb65-c361bbbaad53",
   "metadata": {},
   "outputs": [
    {
     "data": {
      "text/plain": [
       "<AxesSubplot:xlabel='PhysActivity', ylabel='GenHlth'>"
      ]
     },
     "execution_count": 6,
     "metadata": {},
     "output_type": "execute_result"
    },
    {
     "data": {
      "image/png": "[encoded data removed]",
      "text/plain": [
       "<Figure size 576x396 with 1 Axes>"
      ]
     },
     "metadata": {},
     "output_type": "display_data"
    }
   ],
   "source": [
    "sns.boxplot(data = diabetes, x=\"PhysActivity\", y=\"GenHlth\")"
   ]
  },
  {
   "cell_type": "code",
   "execution_count": 7,
   "id": "f0de9872-dec7-4da8-8f5b-23d520f187d4",
   "metadata": {},
   "outputs": [
    {
     "data": {
      "text/plain": [
       "<AxesSubplot:xlabel='PhysActivity', ylabel='BMI'>"
      ]
     },
     "execution_count": 7,
     "metadata": {},
     "output_type": "execute_result"
    },
    {
     "data": {
      "image/png": "[encoded data removed]",
      "text/plain": [
       "<Figure size 576x396 with 1 Axes>"
      ]
     },
     "metadata": {},
     "output_type": "display_data"
    }
   ],
   "source": [
    "sns.boxplot(data = diabetes, x=\"PhysActivity\", y=\"BMI\")"
   ]
  },
  {
   "cell_type": "code",
   "execution_count": 8,
   "id": "5115f602-cf4e-46e3-b835-a8199f5b59d9",
   "metadata": {},
   "outputs": [
    {
     "data": {
      "text/plain": [
       "PhysActivity\n",
       "0.0    62.206450\n",
       "1.0    44.843961\n",
       "Name: Diabetes, dtype: float64"
      ]
     },
     "execution_count": 8,
     "metadata": {},
     "output_type": "execute_result"
    }
   ],
   "source": [
    "diabetes.groupby('PhysActivity')['Diabetes'].apply(lambda x : x.sum()/len(x))*100"
   ]
  },
  {
   "cell_type": "code",
   "execution_count": 9,
   "id": "7f682a41-f3f2-4fbd-bc79-fe4c69fc36f1",
   "metadata": {},
   "outputs": [
    {
     "data": {
      "text/plain": [
       "PhysActivity\n",
       "0.0    9.188777\n",
       "1.0    4.961870\n",
       "Name: Stroke, dtype: float64"
      ]
     },
     "execution_count": 9,
     "metadata": {},
     "output_type": "execute_result"
    }
   ],
   "source": [
    "diabetes.groupby('PhysActivity')['Stroke'].apply(lambda x : x.sum()/len(x))*100"
   ]
  },
  {
   "cell_type": "code",
   "execution_count": 10,
   "id": "0d4896aa-b44f-4e69-8e1b-af6b32a379ee",
   "metadata": {},
   "outputs": [
    {
     "data": {
      "text/plain": [
       "PhysActivity\n",
       "0.0    66.731768\n",
       "1.0    51.958792\n",
       "Name: HighBP, dtype: float64"
      ]
     },
     "execution_count": 10,
     "metadata": {},
     "output_type": "execute_result"
    }
   ],
   "source": [
    "diabetes.groupby('PhysActivity')['HighBP'].apply(lambda x : x.sum()/len(x))*100"
   ]
  },
  {
   "cell_type": "markdown",
   "id": "95f876ff-9745-48be-843f-00b5a105d4bd",
   "metadata": {},
   "source": [
    "## Potential Benefits of Physical Activity:\n",
    "\n",
    "Engaging in physical activity may be beneficial for reducing the risk of high blood pressure. Promoting regular physical activity could be an effective strategy for improving cardiovascular health and preventing hypertension.\n",
    "\n",
    "\n",
    "\n",
    "\n",
    "\n"
   ]
  }
 ],
 "metadata": {
  "kernelspec": {
   "display_name": "Python 3 (ipykernel)",
   "language": "python",
   "name": "python3"
  },
  "language_info": {
   "codemirror_mode": {
    "name": "ipython",
    "version": 3
   },
   "file_extension": ".py",
   "mimetype": "text/x-python",
   "name": "python",
   "nbconvert_exporter": "python",
   "pygments_lexer": "ipython3",
   "version": "3.9.7"
  }
 },
 "nbformat": 4,
 "nbformat_minor": 5
}
