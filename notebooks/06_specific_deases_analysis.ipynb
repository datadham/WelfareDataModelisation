{
 "cells": [
  {
   "cell_type": "code",
   "execution_count": 1,
   "id": "fe40fe59-bdae-4736-8850-799a9f28bfda",
   "metadata": {},
   "outputs": [
    {
     "name": "stderr",
     "output_type": "stream",
     "text": [
      "/opt/anaconda3/lib/python3.9/site-packages/scipy/__init__.py:146: UserWarning: A NumPy version >=1.16.5 and <1.23.0 is required for this version of SciPy (detected version 1.25.1\n",
      "  warnings.warn(f\"A NumPy version >={np_minversion} and <{np_maxversion}\"\n"
     ]
    }
   ],
   "source": [
    "import os\n",
    "import matplotlib.pyplot as plt \n",
    "import seaborn as sns \n",
    "import pandas as pd \n",
    "pd.set_option(\"display.max.columns\",None)\n",
    "plt.style.use('seaborn')"
   ]
  },
  {
   "cell_type": "code",
   "execution_count": 2,
   "id": "63c789c1-6447-4d1d-9991-ecfd57c4b0da",
   "metadata": {},
   "outputs": [],
   "source": [
    "diabetes = pd.read_csv('../data/diabetes_data.csv')\n",
    "stroke = pd.read_csv('../data/stroke_data.csv')\n",
    "hypertension = pd.read_csv('../data/hypertension_data.csv')"
   ]
  },
  {
   "cell_type": "markdown",
   "id": "b7db9563-a45d-446a-8cac-99476cb4d141",
   "metadata": {},
   "source": [
    "## Risk of Specific Diseases:\n",
    "Analyze the intersections between \"Stroke\" and \"HighBP\", \"Diabetes\" to study the risk factors associated with strokes.\n"
   ]
  },
  {
   "cell_type": "code",
   "execution_count": 3,
   "id": "7672ff62-02b9-4359-8118-4e2180d53987",
   "metadata": {},
   "outputs": [],
   "source": [
    "deases_col = [\"Stroke\",\"HighBP\",\"Diabetes\"]\n",
    "other_col  = [col for col in diabetes.columns if col not in deases_col]"
   ]
  },
  {
   "cell_type": "code",
   "execution_count": 4,
   "id": "9d33597a-8b7e-43a0-bba5-8c5ecce883e6",
   "metadata": {},
   "outputs": [
    {
     "data": {
      "text/plain": [
       "Index(['Age', 'Sex', 'HighChol', 'CholCheck', 'BMI', 'Smoker',\n",
       "       'HeartDiseaseorAttack', 'PhysActivity', 'Fruits', 'Veggies',\n",
       "       'HvyAlcoholConsump', 'GenHlth', 'MentHlth', 'PhysHlth', 'DiffWalk',\n",
       "       'Stroke', 'HighBP', 'Diabetes'],\n",
       "      dtype='object')"
      ]
     },
     "execution_count": 4,
     "metadata": {},
     "output_type": "execute_result"
    }
   ],
   "source": [
    "diabetes.columns"
   ]
  },
  {
   "cell_type": "code",
   "execution_count": 5,
   "id": "d5a5fd08-9460-491b-a4d0-551f1f7fccbf",
   "metadata": {},
   "outputs": [
    {
     "data": {
      "text/plain": [
       "Veggies\n",
       "0.0         NaN\n",
       "1.0   -0.316173\n",
       "Name: Diabetes, dtype: float64"
      ]
     },
     "execution_count": 5,
     "metadata": {},
     "output_type": "execute_result"
    }
   ],
   "source": [
    "(diabetes.query('Age >= 2 & Age <=4').groupby(['Veggies'])[\"Diabetes\"].apply(lambda x : x.sum()/len(x))*100).pct_change()"
   ]
  },
  {
   "cell_type": "code",
   "execution_count": 6,
   "id": "dfc8bb4e-0b49-43fa-8573-7b6e91bbe3fb",
   "metadata": {},
   "outputs": [
    {
     "data": {
      "text/plain": [
       "Veggies  Fruits\n",
       "0.0      0.0       57.626748\n",
       "         1.0       57.716263\n",
       "1.0      0.0       51.276584\n",
       "         1.0       46.323628\n",
       "Name: Diabetes, dtype: float64"
      ]
     },
     "execution_count": 6,
     "metadata": {},
     "output_type": "execute_result"
    }
   ],
   "source": [
    "(diabetes.groupby(['Veggies','Fruits'])[\"Diabetes\"].apply(lambda x : x.sum()/len(x))*100)"
   ]
  },
  {
   "cell_type": "code",
   "execution_count": null,
   "id": "2ff39c10-5990-4f21-8c01-ccf634ba5caa",
   "metadata": {},
   "outputs": [],
   "source": [
    "for i in deases_col :\n",
    "    \n",
    "    for j in other_col: \n",
    "        plt.figure(figsize=(16,4))\n",
    "        \n",
    "        plt.subplot(1,2,1)\n",
    "        \n",
    "        plt.title(f\"Proba de {i} par {j}\")\n",
    "        (diabetes.groupby(j)[i].apply(lambda x : x.sum()/len(x))*100).plot.bar()\n",
    "\n",
    "        plt.subplot(1,2,2)\n",
    "        plt.title(f\"Variation proba de {i} par {j}\")\n",
    "        (diabetes.groupby(j)[i].apply(lambda x : x.sum()/len(x))*100).pct_change().plot.bar()\n",
    "\n",
    "\n",
    "        plt.show()"
   ]
  },
  {
   "cell_type": "code",
   "execution_count": 7,
   "id": "8b4b63f8-ff62-4394-81d2-26e2a587f67f",
   "metadata": {},
   "outputs": [
    {
     "data": {
      "text/plain": [
       "HeartDiseaseorAttack    22.339379\n",
       "DiffWalk                19.226592\n",
       "GenHlth                 18.944686\n",
       "Name: Stroke, dtype: float64"
      ]
     },
     "execution_count": 7,
     "metadata": {},
     "output_type": "execute_result"
    }
   ],
   "source": [
    "(diabetes.corr()[\"Stroke\"].sort_values(ascending=False)[1:]*100).nlargest(3)"
   ]
  },
  {
   "cell_type": "code",
   "execution_count": 8,
   "id": "8cfaf5f9-fd3c-4468-b7f8-c39b94c01e06",
   "metadata": {},
   "outputs": [
    {
     "data": {
      "text/plain": [
       "Diabetes    38.151555\n",
       "Age         33.813193\n",
       "GenHlth     32.053981\n",
       "Name: HighBP, dtype: float64"
      ]
     },
     "execution_count": 8,
     "metadata": {},
     "output_type": "execute_result"
    }
   ],
   "source": [
    "(diabetes.corr()[\"HighBP\"].sort_values(ascending=False)[1:]*100).nlargest(3)"
   ]
  },
  {
   "cell_type": "code",
   "execution_count": 9,
   "id": "1feff2fe-fb23-4fa0-9494-bb001a7734ff",
   "metadata": {},
   "outputs": [
    {
     "data": {
      "text/plain": [
       "GenHlth                 40.761160\n",
       "HighBP                  38.151555\n",
       "BMI                     29.337274\n",
       "HighChol                28.921281\n",
       "Age                     27.873807\n",
       "DiffWalk                27.264601\n",
       "PhysHlth                21.308102\n",
       "HeartDiseaseorAttack    21.152340\n",
       "Stroke                  12.542678\n",
       "CholCheck               11.538162\n",
       "MentHlth                 8.702877\n",
       "Smoker                   8.599896\n",
       "Sex                      4.441286\n",
       "Fruits                  -5.407656\n",
       "Veggies                 -7.929315\n",
       "HvyAlcoholConsump       -9.485314\n",
       "PhysActivity           -15.866560\n",
       "Name: Diabetes, dtype: float64"
      ]
     },
     "execution_count": 9,
     "metadata": {},
     "output_type": "execute_result"
    }
   ],
   "source": [
    "diabetes.corr()[\"Diabetes\"].sort_values(ascending=False)[1:]*100"
   ]
  },
  {
   "cell_type": "code",
   "execution_count": null,
   "id": "dbb0adb2-0aea-4a07-bcf0-69cae42ea8e8",
   "metadata": {},
   "outputs": [],
   "source": []
  }
 ],
 "metadata": {
  "kernelspec": {
   "display_name": "Python 3 (ipykernel)",
   "language": "python",
   "name": "python3"
  },
  "language_info": {
   "codemirror_mode": {
    "name": "ipython",
    "version": 3
   },
   "file_extension": ".py",
   "mimetype": "text/x-python",
   "name": "python",
   "nbconvert_exporter": "python",
   "pygments_lexer": "ipython3",
   "version": "3.9.7"
  }
 },
 "nbformat": 4,
 "nbformat_minor": 5
}
